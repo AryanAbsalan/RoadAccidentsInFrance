{
 "cells": [
  {
   "cell_type": "markdown",
   "metadata": {},
   "source": [
    "### Step 1: Install Kaggle\n",
    "First, install the Kaggle library using pip. Open a Command Prompt or PowerShell and run:\n",
    "\n",
    "pip install kaggle\n",
    "\n",
    "### Step 2: Get Your Kaggle API Token\n",
    "\n",
    "Go to the Kaggle website and log in.\n",
    "Click on your profile picture in the top right corner and select \"My Account\".\n",
    "Scroll down to the \"API\" section and click on \"Create New API Token\". \n",
    "This will download a file named kaggle.json to your computer.\n",
    "\n",
    "### Step 3: Set Up the Kaggle API Token on Windows\n",
    "Place the kaggle.json file in the appropriate directory. \n",
    "For Windows, this is usually C:\\Users\\<Your_Username>\\.kaggle. \n",
    "If the .kaggle directory does not exist, create it."
   ]
  },
  {
   "cell_type": "code",
   "execution_count": 4,
   "metadata": {},
   "outputs": [],
   "source": [
    "import os\n",
    "import kaggle\n",
    "import zipfile\n",
    "import pandas as pd\n",
    "\n",
    "import warnings\n",
    "\n",
    "# Suppress all warnings\n",
    "warnings.filterwarnings('ignore')\n",
    "\n",
    "# Set up the Kaggle API client\n",
    "kaggle.api.authenticate()"
   ]
  },
  {
   "cell_type": "markdown",
   "metadata": {},
   "source": [
    "### Download Road Accidents In France Datasets Using Kaggle API"
   ]
  },
  {
   "cell_type": "code",
   "execution_count": 15,
   "metadata": {},
   "outputs": [],
   "source": [
    "def download_kaggle_dataset(dataset, file_name, save_path):\n",
    "    \"\"\"\n",
    "    Download a specific file from a Kaggle dataset and unzip it.\n",
    "\n",
    "    Args:\n",
    "        dataset (str): The Kaggle dataset identifier (e.g., 'username/dataset-name').\n",
    "        file_name (str): The name of the file to download from the dataset.\n",
    "        save_path (str): The directory where the dataset will be saved.\n",
    "\n",
    "    Returns:\n",
    "        str: The file path of the downloaded file, or None if the download fails.\n",
    "    \n",
    "    Raises:\n",
    "        Exception: Prints an error message if the download or extraction fails.\n",
    "    \"\"\"\n",
    "    try:\n",
    "        # Download the dataset\n",
    "        kaggle.api.dataset_download_file(dataset, file_name, path=save_path)\n",
    "        print(f\"Dataset {file_name} downloaded successfully.\")\n",
    "\n",
    "        # Construct the path to the downloaded zip file\n",
    "        zip_file_path = os.path.join(save_path, f\"{file_name}.zip\")\n",
    "\n",
    "        # Check if the file is a zip file and unzip it\n",
    "        if os.path.exists(zip_file_path):\n",
    "            with zipfile.ZipFile(zip_file_path, 'r') as zip_ref:\n",
    "                zip_ref.extractall(save_path)\n",
    "            print(f\"Dataset {file_name} unzipped successfully.\")\n",
    "            os.remove(zip_file_path)  # Remove the zip file after extraction\n",
    "        \n",
    "        # Construct the file path\n",
    "        file_path = os.path.join(save_path, file_name)\n",
    "        \n",
    "        return file_path\n",
    "    \n",
    "    except Exception as e:\n",
    "        print(f\"Error downloading the dataset: {e}\")\n",
    "        return None\n"
   ]
  },
  {
   "cell_type": "code",
   "execution_count": 26,
   "metadata": {},
   "outputs": [
    {
     "name": "stdout",
     "output_type": "stream",
     "text": [
      "Dataset URL: https://www.kaggle.com/datasets/ahmedlahlou/accidents-in-france-from-2005-to-2016\n",
      "Dataset caracteristics.csv downloaded successfully.\n",
      "Dataset caracteristics.csv unzipped successfully.\n",
      "caracteristics.csv downloaded and saved to ./src/data/accidents_data\\caracteristics.csv\n",
      "Dataset URL: https://www.kaggle.com/datasets/ahmedlahlou/accidents-in-france-from-2005-to-2016\n",
      "Dataset holidays.csv downloaded successfully.\n",
      "holidays.csv downloaded and saved to ./src/data/accidents_data\\holidays.csv\n",
      "Dataset URL: https://www.kaggle.com/datasets/ahmedlahlou/accidents-in-france-from-2005-to-2016\n",
      "Dataset places.csv downloaded successfully.\n",
      "Dataset places.csv unzipped successfully.\n",
      "places.csv downloaded and saved to ./src/data/accidents_data\\places.csv\n",
      "Dataset URL: https://www.kaggle.com/datasets/ahmedlahlou/accidents-in-france-from-2005-to-2016\n",
      "Dataset users.csv downloaded successfully.\n",
      "Dataset users.csv unzipped successfully.\n",
      "users.csv downloaded and saved to ./src/data/accidents_data\\users.csv\n",
      "Dataset URL: https://www.kaggle.com/datasets/ahmedlahlou/accidents-in-france-from-2005-to-2016\n",
      "Dataset vehicles.csv downloaded successfully.\n",
      "Dataset vehicles.csv unzipped successfully.\n",
      "vehicles.csv downloaded and saved to ./src/data/accidents_data\\vehicles.csv\n"
     ]
    }
   ],
   "source": [
    "dataset = 'ahmedlahlou/accidents-in-france-from-2005-to-2016'  # Dataset identifier\n",
    "file_names = ['caracteristics.csv','holidays.csv', 'places.csv', 'users.csv', 'vehicles.csv'] # Datasets \n",
    "save_path = './src/data/accidents_data'    # Directory to save the files\n",
    "\n",
    "for file_name in file_names:\n",
    "    file_path = download_kaggle_dataset(dataset, file_name, save_path)\n",
    "    if file_path is not None:\n",
    "        print(f\"{file_name} downloaded and saved to {file_path}\")\n",
    "    else:\n",
    "        print(f\"Failed to download {file_name}\")\n"
   ]
  },
  {
   "cell_type": "markdown",
   "metadata": {},
   "source": [
    "### Create DataFrame from CSV file"
   ]
  },
  {
   "cell_type": "code",
   "execution_count": 7,
   "metadata": {},
   "outputs": [],
   "source": [
    "\n",
    "def load_csv_to_dataframe(file_path):\n",
    "    \"\"\"\n",
    "    Load a CSV file into a pandas DataFrame.\n",
    "\n",
    "    Args:\n",
    "        file_path (str): The path to the CSV file to be loaded.\n",
    "\n",
    "    Returns:\n",
    "        pd.DataFrame or None: \n",
    "            A pandas DataFrame containing the data from the CSV file if successful, \n",
    "            or None if an error occurs.\n",
    "\n",
    "    Raises:\n",
    "        FileNotFoundError: If the specified file does not exist.\n",
    "        pd.errors.EmptyDataError: If the CSV file is empty.\n",
    "        pd.errors.ParserError: If the file cannot be parsed as a CSV.\n",
    "        Exception: Catches any other unexpected errors.\n",
    "    \"\"\"\n",
    "    \n",
    "    try:\n",
    "        # Read the CSV file into a DataFrame\n",
    "        df = pd.read_csv(file_path, encoding='ISO-8859-1')\n",
    "        print(f\"DataFrame loaded successfully from {file_path}\")\n",
    "        return df\n",
    "    except FileNotFoundError:\n",
    "        print(f\"Error: The file at {file_path} does not exist.\")\n",
    "        return None\n",
    "    except pd.errors.EmptyDataError:\n",
    "        print(\"Error: The file is empty.\")\n",
    "        return None\n",
    "    except pd.errors.ParserError:\n",
    "        print(\"Error: The file could not be parsed.\")\n",
    "        return None\n",
    "    except Exception as e:\n",
    "        print(f\"An unexpected error occurred: {e}\")\n",
    "        return None"
   ]
  },
  {
   "cell_type": "code",
   "execution_count": 8,
   "metadata": {},
   "outputs": [
    {
     "name": "stdout",
     "output_type": "stream",
     "text": [
      "DataFrame loaded successfully from src/data/accidents_data/caracteristics.csv\n",
      "DataFrame loaded successfully from src/data/accidents_data/holidays.csv\n",
      "DataFrame loaded successfully from src/data/accidents_data/places.csv\n",
      "DataFrame loaded successfully from src/data/accidents_data/users.csv\n",
      "DataFrame loaded successfully from src/data/accidents_data/vehicles.csv\n"
     ]
    }
   ],
   "source": [
    "# path to datasets\n",
    "file_path_caracteristics = 'src/data/accidents_data/caracteristics.csv'  \n",
    "file_path_holidays = 'src/data/accidents_data/holidays.csv'  \n",
    "file_path_places = 'src/data/accidents_data/places.csv'  \n",
    "file_path_users = 'src/data/accidents_data/users.csv'  \n",
    "file_path_vehicles = 'src/data/accidents_data/vehicles.csv'  \n",
    "\n",
    "# create dataframe from csv files\n",
    "caracteristics_df = load_csv_to_dataframe(file_path_caracteristics)\n",
    "holidays_df = load_csv_to_dataframe(file_path_holidays)\n",
    "places_df = load_csv_to_dataframe(file_path_places)\n",
    "users_df = load_csv_to_dataframe(file_path_users)\n",
    "vehicles_df = load_csv_to_dataframe(file_path_vehicles)"
   ]
  },
  {
   "cell_type": "code",
   "execution_count": 21,
   "metadata": {},
   "outputs": [],
   "source": [
    "caracteristics_df.rename(columns={\n",
    "    'Num_Acc': 'Accident_ID', # Accident_ID: A clearer name for the unique identifier of the accident.\n",
    "    'an': 'Year',# Year: Year of the accident.\n",
    "    'mois': 'Month',# Month: Month of the accident.\n",
    "    'jour': 'Day',# Day: Day of the accident.\n",
    "    'hrmn': 'Time',# Time: Time of the accident in hours and minutes.\n",
    "    'lum': 'Lighting_Conditions',# Lighting_Conditions: Lighting conditions at the time of the accident (e.g., daylight, night with street lighting).\n",
    "    'agg': 'Area_Type',# Area_Type: Type of area (urban or rural) where the accident occurred.\n",
    "    'int': 'Intersection_Type', # Intersection_Type: The type of intersection where the accident took place.\n",
    "    'atm': 'Weather_Conditions', # Weather_Conditions: Weather conditions during the accident (e.g., clear, rainy, foggy).\n",
    "    'col': 'Collision_Type',  # Collision_Type: Type of collision (e.g., frontal, rear-end).\n",
    "    'com': 'Commune_Code',  # Commune_Code: Geographical code for the commune or municipality where the accident occurred.\n",
    "    'adr': 'Address',  # Address: Description or name of the location where the accident occurred.\n",
    "    'gps': 'GPS_Indicator', # GPS_Indicator: Indicator of whether GPS data is available for the accident location.\n",
    "    'lat': 'Latitude', # Latitude: Latitude of the accident location (geographical coordinate).\n",
    "    'long': 'Longitude', # Longitude: Longitude of the accident location (geographical coordinate).\n",
    "    'dep': 'Department_Code' # Department_Code: Code for the department or region where the accident occurred.\n",
    "}, inplace=True)\n"
   ]
  },
  {
   "cell_type": "code",
   "execution_count": 23,
   "metadata": {},
   "outputs": [],
   "source": [
    "holidays_df.rename(columns={\n",
    "    'ds': 'Date',  # Date: This typically stands for \"date\" (object type). It represents the date of the observation or event. Usually in formats like YYYY-MM-DD.\n",
    "    'holiday': 'Holiday_Name'  # Holiday_Name: This column indicates whether a specific date is a holiday. It contains the name or identifier of the holiday (e.g., \"Christmas\", \"New Year's Day\").\n",
    "}, inplace=True)\n"
   ]
  },
  {
   "cell_type": "code",
   "execution_count": 25,
   "metadata": {},
   "outputs": [],
   "source": [
    "places_df.rename(columns={\n",
    "    'Num_Acc': 'Accident_ID',  # Accident_ID: Accident number or unique identifier for the accident (integer).\n",
    "    'catr': 'Road_Category',  # Road_Category: Category of the road where the accident occurred (float, likely coded; e.g., highway, urban road).\n",
    "    'voie': 'Road_Number',  # Road_Number: Road number or identifier, possibly the road section or lane (object, string).\n",
    "    'v1': 'Variable_1',  # Variable_1: Could be a speed limit or vehicle-related variable (float; requires specific context for precise meaning).\n",
    "    'v2': 'Variable_2',  # Variable_2: Likely a secondary vehicle-related variable, possibly another vehicle’s identifier or type (object).\n",
    "    'circ': 'Circulation_Type',  # Circulation_Type: Road circulation type, possibly describing the type of traffic circulation (float; e.g., one-way or two-way).\n",
    "    'nbv': 'Number_of_Lanes',  # Number_of_Lanes: Number of lanes on the road (float).\n",
    "    'pr': 'Kilometric_Point',  # Kilometric_Point: Kilometric point on the road, indicating a reference point where the accident occurred (float).\n",
    "    'pr1': 'Kilometric_Point_1',  # Kilometric_Point_1: Another kilometric point related to the accident (float; might refer to a more specific position).\n",
    "    'vosp': 'Traffic_Lane_Type',  # Traffic_Lane_Type: Type of specific traffic lane (e.g., dedicated lane like a bus or cycle lane) (float, coded).\n",
    "    'prof': 'Road_Profile',  # Road_Profile: Road profile, possibly describing road elevation or gradient (float; e.g., flat, hill, slope).\n",
    "    'plan': 'Road_Curvature',  # Road_Curvature: Road plan, referring to the curvature of the road (float; e.g., straight, curved).\n",
    "    'lartpc': 'Main_Carriageway_Width',  # Main_Carriageway_Width: Width of the road's main carriageway (float).\n",
    "    'larrout': 'Total_Road_Width',  # Total_Road_Width: Total width of the road (float).\n",
    "    'surf': 'Surface_Condition',  # Surface_Condition: Condition of the road surface (e.g., wet, dry, icy) (float, coded).\n",
    "    'infra': 'Infrastructure_Type',  # Infrastructure_Type: Type of infrastructure near the accident, like bridges or tunnels (float, coded).\n",
    "    'situ': 'Accident_Situation',  # Accident_Situation: Situation of the accident on the road, e.g., at an intersection or crossing (float, coded).\n",
    "    'env1': 'Environmental_Factors'  # Environmental_Factors: Environmental factors that could have influenced the accident (float, coded).\n",
    "}, inplace=True)\n"
   ]
  },
  {
   "cell_type": "code",
   "execution_count": 27,
   "metadata": {},
   "outputs": [],
   "source": [
    "users_df.rename(columns={\n",
    "    'Num_Acc': 'Accident_ID',  # Accident_ID: Accident number or unique identifier (integer), linking this data to the broader accident dataset.\n",
    "    'place': 'Position_In_Vehicle',  # Position_In_Vehicle: Likely refers to the position of the individual in the vehicle (float), possibly coded (e.g., driver, front seat, rear seat).\n",
    "    'catu': 'User_Category',  # User_Category: Category of road user (integer), indicating the role of the individual involved (e.g., driver, passenger, pedestrian).\n",
    "    'grav': 'Severity',  # Severity: Severity of the injury (integer), often coded (e.g., 1 for uninjured, 2 for minor injuries, 3 for severe injuries, 4 for fatalities).\n",
    "    'sexe': 'Gender',  # Gender: Gender of the individual (integer, likely coded as 1 for male and 2 for female).\n",
    "    'trajet': 'Journey_Type',  # Journey_Type: Type of journey or purpose of the trip (float, possibly coded; e.g., commuting, leisure, work-related trip).\n",
    "    'secu': 'Safety_Equipment',  # Safety_Equipment: Safety equipment used (float, possibly coded for seatbelt usage, helmet, etc.).\n",
    "    'locp': 'Pedestrian_Location',  # Pedestrian_Location: Location of the pedestrian (float), if relevant (likely coded; e.g., on a crosswalk, on the side of the road).\n",
    "    'actp': 'Pedestrian_Activity',  # Pedestrian_Activity: Activity of the pedestrian (float), likely coded (e.g., walking, running, standing still, crossing).\n",
    "    'etatp': 'Pedestrian_Condition',  # Pedestrian_Condition: Condition or state of the pedestrian (float), possibly indicating impairment (e.g., under the influence, distracted, etc.).\n",
    "    'an_nais': 'Year_of_Birth',  # Year_of_Birth: Year of birth (float), indicating the age of the individual.\n",
    "    'num_veh': 'Vehicle_ID'  # Vehicle_ID: Vehicle number or identifier (object), linking the individual to a specific vehicle involved in the accident.\n",
    "}, inplace=True)\n"
   ]
  },
  {
   "cell_type": "code",
   "execution_count": 29,
   "metadata": {},
   "outputs": [],
   "source": [
    "vehicles_df.rename(columns={\n",
    "    'Num_Acc': 'Accident_ID',  # Accident_ID: Accident number or unique identifier (integer), linking this data to the broader accident dataset.\n",
    "    'senc': 'Travel_Direction',  # Travel_Direction: Direction of travel or driving direction (float, likely coded; e.g., northbound, southbound).\n",
    "    'catv': 'Vehicle_Category',  # Vehicle_Category: Category of the vehicle (integer, coded; e.g., car, motorcycle, bicycle, truck, bus).\n",
    "    'occutc': 'Number_of_Occupants',  # Number_of_Occupants: Number of occupants in the vehicle (integer, total number of people inside the vehicle during the accident).\n",
    "    'obs': 'Obstacle_Hit',  # Obstacle_Hit: Obstacle hit by the vehicle (float, coded; e.g., no obstacle, obstacle on the road, obstacle off the road).\n",
    "    'obsm': 'Mobile_Obstacle',  # Mobile_Obstacle: Mobile obstacle (float, possibly coded to indicate a moving obstacle like another vehicle, animal, etc.).\n",
    "    'choc': 'Collision_Type',  # Collision_Type: Type of collision or point of impact (float, coded; e.g., frontal impact, side impact, rear-end collision).\n",
    "    'manv': 'Vehicle_Manoeuvre',  # Vehicle_Manoeuvre: Vehicle maneuver before the accident (float, coded; e.g., overtaking, turning, stopping, parking).\n",
    "    'num_veh': 'Vehicle_ID'  # Vehicle_ID: Vehicle identifier (object), a unique identifier for the vehicle involved in the accident.\n",
    "}, inplace=True)\n"
   ]
  }
 ],
 "metadata": {
  "kernelspec": {
   "display_name": "venv",
   "language": "python",
   "name": "python3"
  },
  "language_info": {
   "codemirror_mode": {
    "name": "ipython",
    "version": 3
   },
   "file_extension": ".py",
   "mimetype": "text/x-python",
   "name": "python",
   "nbconvert_exporter": "python",
   "pygments_lexer": "ipython3",
   "version": "3.12.4"
  }
 },
 "nbformat": 4,
 "nbformat_minor": 2
}
