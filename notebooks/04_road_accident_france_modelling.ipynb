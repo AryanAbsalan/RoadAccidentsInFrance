{
 "cells": [
  {
   "cell_type": "code",
   "execution_count": 1,
   "metadata": {},
   "outputs": [],
   "source": [
    "#Import libraries\n",
    "import os\n",
    "import pandas as pd\n",
    "import numpy as np\n",
    "import time\n",
    "import joblib\n",
    "from sklearn.model_selection import train_test_split\n",
    "from sklearn.preprocessing import OneHotEncoder, StandardScaler\n",
    "from sklearn.compose import ColumnTransformer\n",
    "from sklearn.linear_model import LogisticRegression\n",
    "from sklearn.tree import DecisionTreeClassifier\n",
    "from sklearn.ensemble import RandomForestClassifier\n",
    "from sklearn.metrics import classification_report\n",
    "\n",
    "import warnings\n",
    "\n",
    "# Suppress all warnings\n",
    "warnings.filterwarnings('ignore')"
   ]
  },
  {
   "cell_type": "markdown",
   "metadata": {},
   "source": [
    "### Data preparation"
   ]
  },
  {
   "cell_type": "code",
   "execution_count": 2,
   "metadata": {},
   "outputs": [],
   "source": [
    "#Read dataset\n",
    "df = pd.read_csv('src/data/final/data_final.csv', encoding='ISO-8859-1')"
   ]
  },
  {
   "cell_type": "code",
   "execution_count": 3,
   "metadata": {},
   "outputs": [],
   "source": [
    "X = df.drop(columns=['Severity'])\n",
    "y = df['Severity']"
   ]
  },
  {
   "cell_type": "code",
   "execution_count": 4,
   "metadata": {},
   "outputs": [],
   "source": [
    "# Split the data into training and testing sets\n",
    "X_train, X_test, y_train, y_test = train_test_split(X, y, test_size=0.3, random_state=42)"
   ]
  },
  {
   "cell_type": "code",
   "execution_count": 5,
   "metadata": {},
   "outputs": [],
   "source": [
    "#Identify categorical and numerical features\n",
    "categorical_features = [\n",
    "    'Safety_Equipment', 'Department_Code', 'Mobile_Obstacle',\n",
    "    'Vehicle_Category', 'Position_In_Vehicle', 'Collision_Type', \n",
    "    'Time_of_Day', 'Journey_Type', 'Obstacle_Hit', \n",
    "    'Road_Category', 'Gender', 'User_Category', 'Intersection_Type'\n",
    "]\n",
    "numerical_features = ['Driver_Age', 'Number_of_Lanes']"
   ]
  },
  {
   "cell_type": "code",
   "execution_count": 6,
   "metadata": {},
   "outputs": [],
   "source": [
    "#Create the column transformer\n",
    "preprocessor = ColumnTransformer(\n",
    "    transformers=[\n",
    "        ('num', StandardScaler(), numerical_features),\n",
    "        ('cat', OneHotEncoder(), categorical_features)\n",
    "    ]\n",
    ")"
   ]
  },
  {
   "cell_type": "code",
   "execution_count": 7,
   "metadata": {},
   "outputs": [],
   "source": [
    "#Preprocess the data\n",
    "X_train_preprocessed = preprocessor.fit_transform(X_train)\n",
    "X_test_preprocessed = preprocessor.transform(X_test)"
   ]
  },
  {
   "cell_type": "markdown",
   "metadata": {},
   "source": [
    "### Model training and evaluation"
   ]
  },
  {
   "cell_type": "code",
   "execution_count": 50,
   "metadata": {},
   "outputs": [],
   "source": [
    "#Train Logistic Regression model\n",
    "start_time = time.time()\n",
    "logistic_model = LogisticRegression(class_weight='balanced', C=0.5, solver='saga', max_iter=200)\n",
    "logistic_model.fit(X_train_preprocessed, y_train)\n",
    "execution_time_logistic = time.time() - start_time"
   ]
  },
  {
   "cell_type": "code",
   "execution_count": 52,
   "metadata": {},
   "outputs": [
    {
     "data": {
      "text/plain": [
       "['src/models/logistic_model.joblib']"
      ]
     },
     "execution_count": 52,
     "metadata": {},
     "output_type": "execute_result"
    }
   ],
   "source": [
    "#Save the model\n",
    "logistic_model_filename = 'src/models/logistic_model.joblib'\n",
    "joblib.dump(logistic_model, logistic_model_filename)"
   ]
  },
  {
   "cell_type": "code",
   "execution_count": 53,
   "metadata": {},
   "outputs": [],
   "source": [
    "#Evaluate Logistic Regression model\n",
    "logistic_predictions = logistic_model.predict(X_test_preprocessed)\n",
    "logistic_score = logistic_model.score(X_test_preprocessed, y_test)\n",
    "model_size_logistic = os.path.getsize(logistic_model_filename)"
   ]
  },
  {
   "cell_type": "code",
   "execution_count": 54,
   "metadata": {},
   "outputs": [
    {
     "name": "stdout",
     "output_type": "stream",
     "text": [
      "Logistic Regression Accuracy: 0.58\n",
      "Logistic Regression Classification Report:\n",
      "               precision    recall  f1-score   support\n",
      "\n",
      "           1       0.75      0.76      0.76    362257\n",
      "           2       0.11      0.65      0.19     21167\n",
      "           3       0.44      0.35      0.39    168698\n",
      "           4       0.64      0.48      0.55    290978\n",
      "\n",
      "    accuracy                           0.58    843100\n",
      "   macro avg       0.48      0.56      0.47    843100\n",
      "weighted avg       0.63      0.58      0.60    843100\n",
      "\n",
      "Execution Time: 134.12 seconds\n",
      "Model Size: 8439 bytes\n"
     ]
    }
   ],
   "source": [
    "print(f\"Logistic Regression Accuracy: {logistic_score:.2f}\")\n",
    "print(\"Logistic Regression Classification Report:\\n\", classification_report(y_test, logistic_predictions))\n",
    "print(f\"Execution Time: {execution_time_logistic:.2f} seconds\")\n",
    "print(f\"Model Size: {model_size_logistic} bytes\")"
   ]
  },
  {
   "cell_type": "code",
   "execution_count": 42,
   "metadata": {},
   "outputs": [],
   "source": [
    "#Train Decision Tree model\n",
    "start_time = time.time()\n",
    "decision_tree_model = DecisionTreeClassifier(class_weight='balanced', max_depth=10, min_samples_leaf=5, min_samples_split=5)\n",
    "decision_tree_model.fit(X_train_preprocessed, y_train)\n",
    "execution_time_tree = time.time() - start_time"
   ]
  },
  {
   "cell_type": "code",
   "execution_count": 45,
   "metadata": {},
   "outputs": [
    {
     "data": {
      "text/plain": [
       "['src/models/decision_tree_model.joblib']"
      ]
     },
     "execution_count": 45,
     "metadata": {},
     "output_type": "execute_result"
    }
   ],
   "source": [
    "#Save the model\n",
    "decision_tree_model_filename = 'src/models/decision_tree_model.joblib'\n",
    "joblib.dump(decision_tree_model, decision_tree_model_filename)"
   ]
  },
  {
   "cell_type": "code",
   "execution_count": 46,
   "metadata": {},
   "outputs": [],
   "source": [
    "#Evaluate Decision Tree model\n",
    "tree_predictions = decision_tree_model.predict(X_test_preprocessed)\n",
    "tree_score = decision_tree_model.score(X_test_preprocessed, y_test)\n",
    "model_size_tree = os.path.getsize(decision_tree_model_filename)"
   ]
  },
  {
   "cell_type": "code",
   "execution_count": 47,
   "metadata": {},
   "outputs": [
    {
     "name": "stdout",
     "output_type": "stream",
     "text": [
      "Decision Tree Accuracy: 0.55\n",
      "Decision Tree Classification Report:\n",
      "               precision    recall  f1-score   support\n",
      "\n",
      "           1       0.75      0.73      0.74    362257\n",
      "           2       0.09      0.65      0.16     21167\n",
      "           3       0.44      0.23      0.30    168698\n",
      "           4       0.59      0.52      0.55    290978\n",
      "\n",
      "    accuracy                           0.55    843100\n",
      "   macro avg       0.47      0.53      0.44    843100\n",
      "weighted avg       0.61      0.55      0.57    843100\n",
      "\n",
      "Execution Time: 86.20 seconds\n",
      "Model Size: 168633 bytes\n"
     ]
    }
   ],
   "source": [
    "print(f\"Decision Tree Accuracy: {tree_score:.2f}\")\n",
    "print(\"Decision Tree Classification Report:\\n\", classification_report(y_test, tree_predictions))\n",
    "print(f\"Execution Time: {execution_time_tree:.2f} seconds\")\n",
    "print(f\"Model Size: {model_size_tree} bytes\")"
   ]
  },
  {
   "cell_type": "code",
   "execution_count": 48,
   "metadata": {},
   "outputs": [],
   "source": [
    "#Train Random Forest model\n",
    "start_time = time.time()\n",
    "random_forest_model = RandomForestClassifier(class_weight='balanced', n_estimators=30, max_depth=5, min_samples_split=5)\n",
    "random_forest_model.fit(X_train_preprocessed, y_train)\n",
    "execution_time_forest = time.time() - start_time"
   ]
  },
  {
   "cell_type": "code",
   "execution_count": 51,
   "metadata": {},
   "outputs": [
    {
     "data": {
      "text/plain": [
       "['src/models/random_forest_model.joblib']"
      ]
     },
     "execution_count": 51,
     "metadata": {},
     "output_type": "execute_result"
    }
   ],
   "source": [
    "#Save the model\n",
    "random_forest_model_filename = 'src/models/random_forest_model.joblib'\n",
    "joblib.dump(random_forest_model, random_forest_model_filename)"
   ]
  },
  {
   "cell_type": "code",
   "execution_count": 55,
   "metadata": {},
   "outputs": [],
   "source": [
    "#Evaluate Random Forest model\n",
    "forest_predictions = random_forest_model.predict(X_test_preprocessed)\n",
    "forest_score = random_forest_model.score(X_test_preprocessed, y_test)\n",
    "model_size_forest = os.path.getsize(random_forest_model_filename)"
   ]
  },
  {
   "cell_type": "code",
   "execution_count": 56,
   "metadata": {},
   "outputs": [
    {
     "name": "stdout",
     "output_type": "stream",
     "text": [
      "Random Forest Accuracy: 0.54\n",
      "Random Forest Classification Report:\n",
      "               precision    recall  f1-score   support\n",
      "\n",
      "           1       0.69      0.78      0.73    362257\n",
      "           2       0.08      0.62      0.15     21167\n",
      "           3       0.44      0.15      0.23    168698\n",
      "           4       0.62      0.45      0.52    290978\n",
      "\n",
      "    accuracy                           0.54    843100\n",
      "   macro avg       0.46      0.50      0.41    843100\n",
      "weighted avg       0.60      0.54      0.54    843100\n",
      "\n",
      "Execution Time: 41.42 seconds\n",
      "Model Size: 194009 bytes\n"
     ]
    }
   ],
   "source": [
    "print(f\"Random Forest Accuracy: {forest_score:.2f}\")\n",
    "print(\"Random Forest Classification Report:\\n\", classification_report(y_test, forest_predictions))\n",
    "print(f\"Execution Time: {execution_time_forest:.2f} seconds\")\n",
    "print(f\"Model Size: {model_size_forest} bytes\")"
   ]
  }
 ],
 "metadata": {
  "kernelspec": {
   "display_name": "Python (project_ml)",
   "language": "python",
   "name": "project_ml"
  },
  "language_info": {
   "codemirror_mode": {
    "name": "ipython",
    "version": 3
   },
   "file_extension": ".py",
   "mimetype": "text/x-python",
   "name": "python",
   "nbconvert_exporter": "python",
   "pygments_lexer": "ipython3",
   "version": "3.12.4"
  }
 },
 "nbformat": 4,
 "nbformat_minor": 2
}
